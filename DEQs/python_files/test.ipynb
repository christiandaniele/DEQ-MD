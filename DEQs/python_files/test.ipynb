{
 "cells": [
  {
   "cell_type": "code",
   "execution_count": null,
   "id": "8451952d",
   "metadata": {},
   "outputs": [],
   "source": [
    "from DEQ_utils import create_DEQ_model\n",
    "from deepinv.loss.metric import PSNR,SSIM,LPIPS\n",
    "from DNCNN import DnCNN\n",
    "from deepinv.physics import GaussianNoise\n",
    "from deepinv.utils import plot\n",
    "import torch"
   ]
  },
  {
   "cell_type": "code",
   "execution_count": 2,
   "id": "15810bfb",
   "metadata": {},
   "outputs": [],
   "source": [
    "if torch.backends.mps.is_available():\n",
    "    device = torch.device(\"mps\")\n",
    "    print(\"Utilizzo della GPU Apple con Metal backend.\")\n",
    "else:\n",
    "    device = torch.device(\"cpu\")\n",
    "    print(\"MPS device non trovato, utilizzo la CPU.\")"
   ]
  },
  {
   "cell_type": "code",
   "execution_count": 3,
   "id": "fab467a7",
   "metadata": {},
   "outputs": [],
   "source": [
    "string='Motion_7'\n",
    "reg='RED'\n",
    "alpha=100\n",
    "device = torch.device(\"cuda\" if torch.cuda.is_available() else \"cpu\")\n",
    "model,_=create_DEQ_model(device,alpha,string,reg)"
   ]
  }
 ],
 "metadata": {
  "kernelspec": {
   "display_name": "Python 3 (ipykernel)",
   "language": "python",
   "name": "python3"
  },
  "language_info": {
   "codemirror_mode": {
    "name": "ipython",
    "version": 3
   },
   "file_extension": ".py",
   "mimetype": "text/x-python",
   "name": "python",
   "nbconvert_exporter": "python",
   "pygments_lexer": "ipython3",
   "version": "3.13.0"
  }
 },
 "nbformat": 4,
 "nbformat_minor": 5
}
